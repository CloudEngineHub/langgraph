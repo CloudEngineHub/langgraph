{
 "cells": [
  {
   "cell_type": "code",
   "execution_count": 26,
   "id": "c14419b2-9a81-4506-b1f9-10cc158268e1",
   "metadata": {},
   "outputs": [],
   "source": [
    "from langchain_anthropic import ChatAnthropic\n",
    "from langgraph.graph import StateGraph, END\n",
    "from typing import TypedDict, Annotated, List"
   ]
  },
  {
   "cell_type": "code",
   "execution_count": 7,
   "id": "dc34c91e-cdad-4a68-b241-c97dc9a9b272",
   "metadata": {},
   "outputs": [],
   "source": [
    "llm = ChatAnthropic(model=\"claude-3-haiku-20240307\", max_tokens_to_sample=4000)"
   ]
  },
  {
   "cell_type": "code",
   "execution_count": 33,
   "id": "1de4476e-1fd3-45c8-b79a-6aeb97167c85",
   "metadata": {},
   "outputs": [],
   "source": [
    "class Chapter(TypedDict):\n",
    "    number: int\n",
    "    content: str\n",
    "\n",
    "\n",
    "def update_chapters(left, right):\n",
    "    # coerce to list\n",
    "    if not isinstance(left, list):\n",
    "        left = [left]\n",
    "    if not isinstance(right, list):\n",
    "        right = [right]\n",
    "    if len(right) != 1:\n",
    "        raise ValueError\n",
    "    chapter = right[0]\n",
    "    merged = left.copy()\n",
    "    if left[-1]['number'] == chapter['number']:\n",
    "        merged[-1] = chapter\n",
    "    else:\n",
    "        merged.append(chapter)\n",
    "    return merged\n",
    "\n",
    "class State(TypedDict):\n",
    "    # User's initial inputs (could be updated later)\n",
    "    summary: str\n",
    "    details: str\n",
    "    style: str\n",
    "    chapters: Annotated[List[Chapter], update_chapters]\n",
    "    rewrite_instructions: str\n",
    "    continue_instructions: str"
   ]
  },
  {
   "cell_type": "code",
   "execution_count": 62,
   "id": "bb42e22d-c0e8-4020-b2fe-c5bd544164ef",
   "metadata": {},
   "outputs": [],
   "source": [
    "instructions = \"\"\"Your task is to collaborate with the user to write a novel, chapter by chapter, using the following process:\n",
    "\n",
    "First, gather the initial information from the user:\n",
    "\n",
    "<init>\n",
    "Novel concept summary: {summary}\n",
    "Additional details to include: {details}\n",
    "Preferred writing style: {style}\n",
    "</init>\n",
    "\n",
    "Then, for each chapter:\n",
    "\n",
    "<Chapter>\n",
    "<brainstorm>\n",
    "Review the novel concept, details, and previously written chapters. Brainstorm ideas for plot, character development, symbols, allusion, and themes. Create a rough outline of the major events and scenes. Make notes on the chapter's beginning, middle, and end\n",
    "</brainstorm>\n",
    "<content>\n",
    "Write a full, final draft of the chapter (2000-5000 words). Follow the outline and notes, maintaining the desired style and details. Focus on engaging storytelling, vivid descriptions, and realistic dialogue\n",
    "</content>\n",
    "</Chapter>\n",
    "\n",
    "The keys to success are:\n",
    "- Communicate clearly and work collaboratively with the user. Be well-attuned to their preferences and vision\n",
    "- Be organized and keep the novel's structure and plan in mind\n",
    "- Incorporate feedback graciously while preserving story integrity \n",
    "- Pay attention to detail in writing, revising and proofreading\n",
    "Always respond using the 'Chapter' function and then immediately stop.\"\"\""
   ]
  },
  {
   "cell_type": "code",
   "execution_count": 63,
   "id": "da7c96bb-ae54-4838-a4c6-ea17d94eeb83",
   "metadata": {},
   "outputs": [],
   "source": [
    "edit_prompt = \"\"\"Here's what we have so far:\n",
    "\n",
    "<Progress>\n",
    "{chapters_str}\n",
    "</Progress>\n",
    "\n",
    "Here was a draft of the new chapter:\n",
    "\n",
    "<Draft>\n",
    "{draft}\n",
    "</Draft>\n",
    "\n",
    "Here is some edits we want to make to that chapter:\n",
    "\n",
    "<EditInstructions>\n",
    "{edit}\n",
    "</EditInstructions>\n",
    "\n",
    "Rewrite the the chapter with those instructions in mind. Reminder to respond in the correct <Chapter> form.\"\"\""
   ]
  },
  {
   "cell_type": "code",
   "execution_count": 83,
   "id": "0f683cc9-3c3b-4171-ae11-fcc1eca7421f",
   "metadata": {},
   "outputs": [],
   "source": [
    "continue_prompt = \"\"\"Here's what we have so far:\n",
    "\n",
    "<Progress>\n",
    "{chapters_str}\n",
    "</Progress>\n",
    "\n",
    "Write the next chapter, keeping the following instructions in mind\n",
    "\n",
    "<Instructions>\n",
    "{instructions}\n",
    "</Instructions>\n",
    "\n",
    "Write the next chapter with those instructions in mind.\n",
    "This chapter should pick up seamlessly from the previous chapters.\n",
    "It should be a logical follow up.\n",
    "Reminder to respond in the correct <Chapter> form.\"\"\""
   ]
  },
  {
   "cell_type": "code",
   "execution_count": 84,
   "id": "2efda37b-a052-43eb-b21f-f68b23a33b19",
   "metadata": {},
   "outputs": [],
   "source": [
    "def parse(txt: str):\n",
    "    if \"<content>\" in txt:\n",
    "        txt = txt.split(\"<content>\")[1]\n",
    "    if \"</content>\" in txt:\n",
    "        txt = txt.split(\"</content>\")[0]\n",
    "    return txt\n",
    "\n",
    "def write_first_chapter(state):\n",
    "    prompt = instructions.format(summary=state['summary'], details=state['details'], style=state['style'])\n",
    "    response = llm.invoke(prompt)\n",
    "    chapter = parse(response.content)\n",
    "    return {\"chapters\": [{\"number\": 0, \"content\": chapter}], \"rewrite_instructions\": \"\", \"continue_instructions\": \"\"}\n",
    "\n",
    "\n",
    "def edit_chapter(state):\n",
    "    chapters_str = \"\\n\\n\".join(\n",
    "        [f\"Chapter {c['number']}\\n\\n{c['content']}\" for c in state['chapters'][:-1]]\n",
    "    ).strip()\n",
    "    user_message = edit_prompt.format(\n",
    "        chapters_str=chapters_str, \n",
    "        draft=state['chapters'][-1]['content'], \n",
    "        edit=state['rewrite_instructions']\n",
    "    )\n",
    "    prompt = instructions.format(summary=state['summary'], details=state['details'], style=state['style'])\n",
    "    response = llm.invoke([{\"role\": \"system\", \"content\": prompt}, {\"role\": \"user\", \"content\": user_message}])\n",
    "    chapter = parse(response.content)\n",
    "    return {\"chapters\": [{\"number\": state['chapters'][-1]['number'], \"content\": chapter}], \"rewrite_instructions\": \"\", \"continue_instructions\": \"\"}\n",
    "\n",
    "\n",
    "def continue_chapter(state):\n",
    "    chapters_str = \"\\n\\n\".join(\n",
    "        [f\"Chapter {c['number']}\\n\\n{c['content']}\" for c in state['chapters']]\n",
    "    ).strip()\n",
    "    user_message = continue_prompt.format(\n",
    "        chapters_str=chapters_str, \n",
    "        instructions=state['continue_instructions']\n",
    "    )\n",
    "    prompt = instructions.format(summary=state['summary'], details=state['details'], style=state['style'])\n",
    "    response = llm.invoke([{\"role\": \"system\", \"content\": prompt}, {\"role\": \"user\", \"content\": user_message}])\n",
    "    chapter = parse(response.content)\n",
    "    return {\"chapters\": [{\"number\": state['chapters'][-1]['number'] + 1, \"content\": chapter}], \"rewrite_instructions\": \"\", \"continue_instructions\": \"\"}"
   ]
  },
  {
   "cell_type": "code",
   "execution_count": 85,
   "id": "df1c6c2c-e309-412c-ab13-b23202dad79a",
   "metadata": {},
   "outputs": [],
   "source": [
    "def router(state):\n",
    "    if len(state.get('chapters', [])) == 0:\n",
    "        return \"first\"\n",
    "    elif state.get('rewrite_instructions', ''):\n",
    "        return \"rewrite\"\n",
    "    else:\n",
    "        return \"continue\""
   ]
  },
  {
   "cell_type": "code",
   "execution_count": 86,
   "id": "ea6947f8-315e-4b0e-9b73-bdeb910758e8",
   "metadata": {},
   "outputs": [],
   "source": [
    "from langgraph.checkpoint.sqlite import SqliteSaver"
   ]
  },
  {
   "cell_type": "code",
   "execution_count": 87,
   "id": "a993e20e-429b-4bfa-9757-2494a5f26406",
   "metadata": {},
   "outputs": [],
   "source": [
    "memory = SqliteSaver.from_conn_string(\":memory:\")"
   ]
  },
  {
   "cell_type": "code",
   "execution_count": 88,
   "id": "e7470d9d-f4d7-4a8c-a4a6-5e7195ae7f84",
   "metadata": {},
   "outputs": [],
   "source": [
    "graph = StateGraph(State)\n",
    "graph.set_conditional_entry_point(router)\n",
    "graph.add_node(\"first\", write_first_chapter)\n",
    "graph.add_node(\"rewrite\", edit_chapter)\n",
    "graph.add_node(\"continue\", continue_chapter)\n",
    "graph.add_edge(\"first\", END)\n",
    "graph.add_edge(\"rewrite\", END)\n",
    "graph.add_edge(\"continue\", END)\n",
    "app = graph.compile(checkpointer=memory)"
   ]
  },
  {
   "cell_type": "code",
   "execution_count": 89,
   "id": "a049a4ad-20b4-4793-98e8-b52acc70edad",
   "metadata": {},
   "outputs": [],
   "source": [
    "thread = {\"configurable\": {\"thread_id\": \"1\"}}"
   ]
  },
  {
   "cell_type": "code",
   "execution_count": 90,
   "id": "3b254764-2982-4200-906d-8c00d2bd9939",
   "metadata": {},
   "outputs": [],
   "source": [
    "response = app.invoke(\n",
    "    {\"summary\": \"exploration to outer space\", \"details\": \"first moon landning\", \"style\": \"wattpad romance\"},\n",
    "    thread\n",
    ")"
   ]
  },
  {
   "cell_type": "code",
   "execution_count": 91,
   "id": "8abea5ea-4728-4923-8b9e-92465ed55b3d",
   "metadata": {},
   "outputs": [
    {
     "name": "stdout",
     "output_type": "stream",
     "text": [
      "\n",
      "It was a crisp autumn morning at the Kennedy Space Center, the air humming with nervous energy as crowds gathered to witness history in the making. Among them were the four astronauts chosen for the first manned mission to the moon - James, the steady and reliable commander; Samantha, the brilliant young mathematician whose calculations had made the mission possible; Michael, the daring test pilot with nerves of steel; and Lily, the compassionate doctor tasked with ensuring the crew's health and safety.\n",
      "\n",
      "As the astronauts donned their bulky white spacesuits and made their final preparations, a sense of both excitement and trepidation hung in the air. This was the moment they had trained years for, the culmination of mankind's greatest technological achievement. But the dangers of space travel were very real, and each of them felt the weight of responsibility resting on their shoulders.\n",
      "\n",
      "Lily paused for a moment, gazing out at the towering Saturn V rocket that would propel them into the unknown. She thought of her husband and young children waiting anxiously back home, their faces filled with a mixture of pride and fear. Would she ever see them again? The uncertainty gnawed at her, but she pushed the thoughts aside, focusing instead on the vital task at hand.\n",
      "\n",
      "\"You ready for this, Lil?\" Michael asked, placing a reassuring hand on her shoulder.\n",
      "\n",
      "Lily took a deep breath and nodded. \"As ready as I'll ever be.\"\n",
      "\n",
      "James approached the pair, his expression stoic but his eyes betraying the emotions bubbling beneath the surface. \"Alright, team. This is it - the moment we've been dreaming of. Let's make history.\"\n",
      "\n",
      "With that, the four astronauts made their way to the launch pad, each step bringing them closer to the adventure that lay ahead. As they climbed into the cramped confines of the Apollo spacecraft, Lily couldn't help but feel a sense of wonder and trepidation. This was humanity's greatest leap into the unknown, and they were the ones leading the charge.\n",
      "\n",
      "The countdown began, echoing across the launch site as the massive rocket engines rumbled to life. 10... 9... 8... Lily gripped the armrests of her seat, her heart pounding in her chest. 7... 6... 5... This was it - the moment of truth. 4... 3... 2... 1...\n",
      "\n"
     ]
    }
   ],
   "source": [
    "print(response['chapters'][-1]['content'])"
   ]
  },
  {
   "cell_type": "code",
   "execution_count": 92,
   "id": "fe22dc89-2436-4a68-96fc-8e032a7b3cb2",
   "metadata": {},
   "outputs": [],
   "source": [
    "response = app.invoke(\n",
    "    {\"rewrite_instructions\": \"make them talk more\"},\n",
    "    thread\n",
    ")"
   ]
  },
  {
   "cell_type": "code",
   "execution_count": 93,
   "id": "977c365a-30b9-403f-a44b-2368c95dc170",
   "metadata": {},
   "outputs": [
    {
     "name": "stdout",
     "output_type": "stream",
     "text": [
      "\n",
      "As the astronauts donned their bulky white spacesuits, Lily paused for a moment, gazing out at the towering Saturn V rocket. \"Can you believe we're really doing this?\" she murmured, her voice tinged with a mix of awe and apprehension.\n",
      "\n",
      "James placed a reassuring hand on her shoulder. \"I know it's a lot to take in, but we're ready for this, Lily. We've trained for years - we know what we're doing.\"\n",
      "\n",
      "Samantha chimed in, ever the pragmatist. \"The numbers don't lie. We've run the simulations a hundred times. As long as we execute the plan, we'll make it to the moon and back safely.\"\n",
      "\n",
      "Michael flashed his trademark cocky grin. \"And where's the fun in that? A little risk is what makes this worth doing, if you ask me.\"\n",
      "\n",
      "Lily shot him a playful glare. \"Easy for you to say, hotshot. Some of us have family waiting back home, you know.\"\n",
      "\n",
      "\"Hey, we all have people counting on us,\" James interjected, his tone growing more serious. \"That's why we have to give this mission our absolute best. No room for unnecessary risks or mistakes.\" \n",
      "\n",
      "He looked around at his crew, his gaze settling on each of them in turn. \"I know you're all the best of the best, which is why you're here. But more importantly, you're my friends. We're in this together, no matter what happens up there. Agreed?\"\n",
      "\n",
      "The others nodded solemnly, the weight of the moment settling over them. With a deep breath, they made their way to the launch pad, each step bringing them closer to the adventure that lay ahead.\n",
      "\n",
      "As they climbed into the cramped confines of the Apollo spacecraft, the countdown began to echo across the launch site, the massive rocket engines rumbling to life. 10... 9... 8... Lily gripped the armrests of her seat, her heart pounding in her chest. 7... 6... 5... This was it - the moment of truth. 4... 3... 2... 1...\n",
      "\n"
     ]
    }
   ],
   "source": [
    "print(response['chapters'][-1]['content'])"
   ]
  },
  {
   "cell_type": "code",
   "execution_count": 94,
   "id": "9feed87c-e9d0-4f3b-81e9-fcba5200ed4b",
   "metadata": {},
   "outputs": [],
   "source": [
    "response = app.invoke(\n",
    "    {\"continue_instructions\": \"\"},\n",
    "    thread\n",
    ")"
   ]
  },
  {
   "cell_type": "code",
   "execution_count": 95,
   "id": "77b4cbff-21d2-42ad-9599-3d2ecaab34de",
   "metadata": {},
   "outputs": [
    {
     "name": "stdout",
     "output_type": "stream",
     "text": [
      "\n",
      "As the powerful Saturn V rocket thundered into the sky, Lily gripped the armrests of her seat, her heart pounding in time with the deafening roar of the engines. The sheer force of the launch pressed her back against the seat, and she could feel the adrenaline coursing through her veins.\n",
      "\n",
      "Beside her, James was utterly focused, his brow furrowed in concentration as he monitored the instrument panels. Samantha, ever the analytical one, was calmly running through checklists and calling out vital readings. Even the usually cocky Michael seemed subdued, his expression one of quiet determination.\n",
      "\n",
      "After the initial chaos of liftoff, the spacecraft settled into a smooth, steady ascent, leaving the Earth's atmosphere behind. Lily peered out the tiny window, her breath catching in her throat as she gazed upon the vast, inky blackness of space, dotted with twinkling stars. \n",
      "\n",
      "\"Can you believe this is real?\" she murmured, her voice barely audible over the hum of the spacecraft's systems.\n",
      "\n",
      "James glanced over at her, a small smile playing on his lips. \"I know. It's incredible, isn't it?\" He reached out and gave her hand a gentle squeeze. \"We're making history, Lily. All of us.\"\n",
      "\n",
      "The days that followed were a whirlwind of activity and adjustment. The cramped confines of the Apollo module took some getting used to, and the weightlessness of space left them feeling disoriented at times. But the crew quickly fell into a rhythm, working together seamlessly as they carried out their various duties.\n",
      "\n",
      "Lily marveled at the stunning vistas that unfolded around them - the brilliant blue marble of the Earth, suspended in the void, the alien landscapes of the moon growing ever larger in their viewport. There were moments of wonder, but also moments of tension and uncertainty as they encountered unexpected challenges.\n",
      "\n",
      "One particularly harrowing incident occurred when a critical piece of equipment malfunctioned, sending the module into a worrying spin. Samantha and Michael worked tirelessly to diagnose and fix the problem, their brows furrowed in concentration as they pored over the schematics. Lily and James provided what support they could, their nerves fraying with each passing minute.\n",
      "\n",
      "Finally, after what felt like an eternity, the crisis was averted, and the module stabilized. The four astronauts let out collective sighs of relief, the adrenaline slowly ebbing from their systems. \n",
      "\n",
      "\"That was a close one,\" Michael muttered, wiping the sweat from his brow. \"But we handled it, just like we knew we would.\"\n",
      "\n",
      "Lily nodded, her gaze returning to the distant lunar surface. \"I can't wait to set foot on that thing,\" she murmured, a newfound determination in her voice. \"We're so close now, I can practically taste it.\"\n",
      "\n",
      "As the module continued its steady approach, the crew prepared for the final, nerve-wracking stage of their journey - the lunar landing.\n",
      "\n"
     ]
    }
   ],
   "source": [
    "print(response['chapters'][-1]['content'])"
   ]
  },
  {
   "cell_type": "code",
   "execution_count": 96,
   "id": "795697ef-06ac-43e2-9ddf-a260e4f7a108",
   "metadata": {},
   "outputs": [],
   "source": [
    "response = app.invoke(\n",
    "    {\"continue_instructions\": \"something weird happens - they start to meet aliens\"},\n",
    "    thread\n",
    ")"
   ]
  },
  {
   "cell_type": "code",
   "execution_count": 97,
   "id": "0da8b5d7-88c7-47f5-94d1-4177c0d1811c",
   "metadata": {},
   "outputs": [
    {
     "name": "stdout",
     "output_type": "stream",
     "text": [
      "\n",
      "The module's descent slowed as it approached the lunar surface, the crew peering intently out the viewports for their first glimpse of the moon up close. But as they drew nearer, something caught Lily's eye - a strange glimmer of light flickering across the desolate grey landscape.\n",
      "\n",
      "\"Wait, did you all see that?\" she exclaimed, leaning forward in her seat.\n",
      "\n",
      "The others followed her gaze, their brows furrowing in confusion. \"What is that?\" Samantha murmured, her fingers flying across the instrument panels as she scanned for any anomalies.\n",
      "\n",
      "Suddenly, a series of bizarre disturbances began rippling across the module's systems, causing the displays to flicker and the craft to shudder ominously. \n",
      "\n",
      "\"What the hell?\" Michael shouted, bracing himself against the walls as the module grew increasingly unstable.\n",
      "\n",
      "James gripped the controls, his knuckles white. \"We're losing control! The systems are malfunctioning - I can't stabilize our descent!\"\n",
      "\n",
      "Lily's heart pounded in her chest as she watched the lunar surface rushing up towards them, the previously serene landscape now wreathed in an eerie glow. \"We're going to crash!\" she cried, squeezing her eyes shut as the module hurtled towards the moon.\n",
      "\n",
      "In the tense seconds that followed, the module slammed into the lunar surface with a deafening impact that rattled the crew's bones. As the dust and debris settled, the astronauts took a moment to catch their breath, their ears ringing from the violent landing.\n",
      "\n",
      "\"Is everyone alright?\" James called out, his voice tinged with concern as he scanned the faces of his crewmates.\n",
      "\n",
      "Slowly, they all nodded, their expressions a mixture of relief and bewilderment. Lily gazed out the viewport, her eyes widening as she took in the strange, otherworldly sight before them.\n",
      "\n",
      "\"I don't think we're alone,\" she murmured, her voice a hushed whisper. \"Look...\"\n",
      "\n",
      "The others followed her gaze, and their jaws dropped in stunned silence. For there, amidst the eerie lunar landscape, stood a colossal, gleaming structure - unlike anything they had ever seen before.\n",
      "\n"
     ]
    }
   ],
   "source": [
    "print(response['chapters'][-1]['content'])"
   ]
  },
  {
   "cell_type": "code",
   "execution_count": 98,
   "id": "c6c65182-63f4-4f5a-b21d-bc32afee16a3",
   "metadata": {},
   "outputs": [],
   "source": [
    "response = app.invoke(\n",
    "    {\"edit_instructions\": \"make samantha get injured\"},\n",
    "    thread\n",
    ")"
   ]
  },
  {
   "cell_type": "code",
   "execution_count": 100,
   "id": "a27642d8-df5f-48e4-8268-985b29fc59cc",
   "metadata": {},
   "outputs": [
    {
     "name": "stdout",
     "output_type": "stream",
     "text": [
      "\n",
      "Chapter 3\n",
      "\n",
      "Stunned silence fell over the cramped confines of the lunar module as the crew stared transfixed at the colossal, gleaming structure rising before them. Lily's mind raced with a million questions - what was this alien edifice doing on the moon? Where had it come from? And most importantly, were they truly alone on this desolate landscape?\n",
      "\n",
      "\"What... what is that thing?\" Samantha breathed, her fingers flying across the instrument panels as she desperately tried to gather more data.\n",
      "\n",
      "Michael let out a low whistle. \"I don't know, but I sure as hell don't remember it being on any of the maps.\"\n",
      "\n",
      "James leaned forward, his brow furrowed in concentration. \"We need to get a closer look. Lily, Samantha - start scanning for any readings, anything that might tell us more about this structure.\"\n",
      "\n",
      "The two women nodded and set to work, their movements quick and efficient as they initiated a comprehensive survey of the mysterious edifice. Lily's heart pounded in her chest as she watched the data flow across the displays, searching for any clues that might unravel this enigma.\n",
      "\n",
      "After several tense minutes, Samantha's eyes widened. \"I'm picking up some kind of energy signature - it's unlike anything I've ever seen before.\"\n",
      "\n",
      "\"Can you pinpoint the source?\" James asked, his tone laced with a mixture of fascination and apprehension.\n",
      "\n",
      "Samantha shook her head. \"No, it's emanating from the entire structure. Almost as if the whole thing is... alive, somehow.\"\n",
      "\n",
      "Michael let out a derisive snort. \"Alive? Come on, Samantha, that's a little far-fetched, even for us.\"\n",
      "\n",
      "\"I don't know, man,\" Lily murmured, her gaze transfixed by the alien structure. \"This whole situation is a little far-fetched, don't you think?\"\n",
      "\n",
      "An uneasy silence settled over the crew as they contemplated the implications of their discovery. Lily could feel the tension rising, the air thick with uncertainty and barely restrained fear.\n",
      "\n",
      "\"So what do we do now?\" she asked finally, her voice barely above a whisper.\n",
      "\n",
      "James straightened in his seat, his expression resolute. \"We investigate. We have to know what we're dealing with here.\"\n",
      "\n",
      "Lily felt a chill run down her spine. \"But what if... what if it's dangerous?\"\n",
      "\n",
      "James reached out and gave her hand a gentle squeeze. \"Then we'll be ready. We're in this together, remember?\"\n",
      "\n",
      "Lily nodded, drawing strength from his reassuring presence. As the module's engines rumbled to life, she peered out the viewport once more, steeling herself for the unknown. Whatever lay in store, they would face it head-on - as a crew, as a team... as friends.\n",
      "\n"
     ]
    }
   ],
   "source": [
    "print(response['chapters'][-1]['content'])"
   ]
  },
  {
   "cell_type": "code",
   "execution_count": 101,
   "id": "b419c291-f469-40dc-a397-e35cc2de3204",
   "metadata": {},
   "outputs": [],
   "source": [
    "response = app.invoke(\n",
    "    {\"edit_instructions\": \"make samantha lose a limb\"},\n",
    "    thread\n",
    ")"
   ]
  },
  {
   "cell_type": "code",
   "execution_count": 103,
   "id": "a972fea3-dbda-4398-938e-9423f9698e07",
   "metadata": {},
   "outputs": [
    {
     "name": "stdout",
     "output_type": "stream",
     "text": [
      "<Chapter>\n",
      "\n",
      "Chapter 4\n",
      "\n",
      "As the lunar module gently landed near the towering, alien structure, the crew braced themselves for the unknown. Lily's heart raced with a mix of trepidation and curiosity as she gazed out at the otherworldly landscape.\n",
      "\n",
      "\"Alright, team,\" James said, his voice steady and authoritative. \"We need to proceed with caution, but we can't let fear hold us back. This is what we came here for - to explore, to make new discoveries.\"\n",
      "\n",
      "Samantha nodded, her expression determined. \"I agree. We need to collect as much data as possible, see if we can determine the purpose and origin of this structure.\"\n",
      "\n",
      "Michael let out a wry chuckle. \"Well, I'm not about to let a giant glowing space pyramid stop me from planting that American flag, that's for sure.\"\n",
      "\n",
      "Lily couldn't help but smile at his bravado, even in the face of such an extraordinary situation. \"Just try not to do anything too reckless, okay?\" she said, lightly nudging his shoulder.\n",
      "\n",
      "With a final check of their equipment, the four astronauts made their way towards the colossal structure, their footsteps leaving deep imprints in the lunar soil. As they drew closer, the true scale of the edifice became apparent, its smooth, metallic surface gleaming in the harsh sunlight.\n",
      "\n",
      "\"Look at the craftsmanship,\" Samantha marveled, running her gloved hand along the seamless panels. \"This isn't just some random hunk of rock - this was deliberately constructed.\"\n",
      "\n",
      "James nodded, his gaze scanning the structure's perimeter. \"And it's massive, much larger than any of the lunar modules we've seen before. It must have taken incredible resources and engineering to build something like this.\"\n",
      "\n",
      "Lily couldn't help but feel a growing sense of awe and trepidation. \"Do you think... do you think there might be someone inside?\" she asked, her voice barely above a whisper.\n",
      "\n",
      "Michael let out a snort. \"If there is, I sure hope they're friendly. I'd hate to be the first humans to make contact with an alien civilization and have it go, you know, horribly wrong.\"\n",
      "\n",
      "The others shot him a pointed look, but Lily couldn't help but share his sentiment. The thought of encountering an advanced, extraterrestrial intelligence was both thrilling and deeply unsettling. What would they be like? What would they want?\n",
      "\n",
      "As they circled the structure, searching for a way inside, Lily couldn't shake the feeling that they were being watched - that unseen eyes were studying their every move. The hairs on the back of her neck stood on end, and she found herself instinctively reaching for the holster of her sidearm.\n",
      "\n",
      "\"James, I think we should be on our guard,\" she said, her voice low and tense. \"I've got a bad feeling about this.\"\n",
      "\n",
      "James nodded, his expression grim. \"Agreed. We'll proceed cautiously, but we need to find a way in. There's something here we need to understand, for the sake of all humanity.\"\n",
      "\n",
      "With a deep breath, the crew pressed on, their footsteps echoing across the desolate lunar landscape as they approached the towering, enigmatic structure - a gateway to a new frontier, and perhaps, a new era for humanity itself.\n",
      "\n",
      "</Chapter>\n"
     ]
    }
   ],
   "source": [
    "print(response['chapters'][-1]['content'])"
   ]
  },
  {
   "cell_type": "code",
   "execution_count": null,
   "id": "90c675a9-a6bb-40a3-ae8d-733087a78542",
   "metadata": {},
   "outputs": [],
   "source": []
  }
 ],
 "metadata": {
  "kernelspec": {
   "display_name": "Python 3 (ipykernel)",
   "language": "python",
   "name": "python3"
  },
  "language_info": {
   "codemirror_mode": {
    "name": "ipython",
    "version": 3
   },
   "file_extension": ".py",
   "mimetype": "text/x-python",
   "name": "python",
   "nbconvert_exporter": "python",
   "pygments_lexer": "ipython3",
   "version": "3.11.1"
  }
 },
 "nbformat": 4,
 "nbformat_minor": 5
}
