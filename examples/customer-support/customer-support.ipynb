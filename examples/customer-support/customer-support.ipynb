{
 "cells": [
  {
   "cell_type": "code",
   "execution_count": null,
   "id": "b7610442-00c3-4763-8434-0158ba5e732c",
   "metadata": {},
   "outputs": [],
   "source": [
    "%%capture --no-stderr\n",
    "# % pip install -U langgraph langchain langchain_community, langchain_anthropic"
   ]
  },
  {
   "cell_type": "code",
   "execution_count": 51,
   "id": "60aa7fcd-f493-4c2c-8886-f49db9cae9b4",
   "metadata": {},
   "outputs": [
    {
     "name": "stdout",
     "output_type": "stream",
     "text": [
      "env: LANGCHAIN_TRACING_V2=true\n"
     ]
    }
   ],
   "source": [
    "%env LANGCHAIN_TRACING_V2=true"
   ]
  },
  {
   "cell_type": "code",
   "execution_count": 1,
   "id": "99dcbb8d-d3b4-48e0-b870-7be62775f6fc",
   "metadata": {},
   "outputs": [],
   "source": [
    "from langgraph.graph import StateGraph, END\n",
    "from langgraph.graph.message import add_messages, AnyMessage\n",
    "from typing_extensions import TypedDict\n",
    "from typing import Annotated\n",
    "from langchain_community.tools.tavily_search import TavilySearchResults\n",
    "from langchain_anthropic import ChatAnthropic\n",
    "from langchain_core.prompts import ChatPromptTemplate\n",
    "\n",
    "tools = [TavilySearchResults(max_results=1)]\n",
    "\n",
    "class State(TypedDict):\n",
    "    messages: Annotated[list[AnyMessage], add_messages]"
   ]
  },
  {
   "cell_type": "code",
   "execution_count": 3,
   "id": "4081dbc5-1e3f-4214-861f-b6df5bc2966a",
   "metadata": {},
   "outputs": [],
   "source": [
    "# DB tool"
   ]
  },
  {
   "cell_type": "code",
   "execution_count": 4,
   "id": "71638c2a-5038-439e-907a-de2bb548db34",
   "metadata": {},
   "outputs": [
    {
     "name": "stdout",
     "output_type": "stream",
     "text": [
      "Tables in the in-memory database: [('aircrafts_data',), ('airports_data',), ('boarding_passes',), ('bookings',), ('flights',), ('seats',), ('ticket_flights',), ('tickets',)]\n"
     ]
    }
   ],
   "source": [
    "import os\n",
    "import requests\n",
    "import sqlite3\n",
    "import io\n",
    "\n",
    "# We've cached the SQLIte file for you\n",
    "db_url = \"https://storage.googleapis.com/benchmarks-artifacts/travel-db/travel.sqlite\"\n",
    "local_file = \"travel.sqlite\"\n",
    "\n",
    "# Check if local file exists, otherwise download it\n",
    "if not os.path.exists(local_file):\n",
    "    response = requests.get(db_url)\n",
    "    response.raise_for_status()  # Ensure the request was successful\n",
    "    with open(local_file, \"wb\") as f:\n",
    "        f.write(response.content)\n",
    "\n",
    "# Read the content from the cached file\n",
    "with open(local_file, 'rb') as f:\n",
    "    content = f.read()\n",
    "\n",
    "memory_db = sqlite3.connect(':memory:')\n",
    "\n",
    "# Load the database directly from the local file into a SQLite database\n",
    "disk_db = sqlite3.connect(local_file)\n",
    "\n",
    "# Copy data from the local database to the memory database\n",
    "with memory_db as conn:\n",
    "    for line in disk_db.iterdump():\n",
    "        conn.execute(line)\n",
    "\n",
    "# Use the in-memory database\n",
    "cursor = memory_db.cursor()\n",
    "cursor.execute(\"SELECT name FROM sqlite_master WHERE type='table';\")\n",
    "tables = cursor.fetchall()\n",
    "print(\"Tables in the in-memory database:\", tables)\n",
    "\n",
    "# Close the disk DB\n",
    "disk_db.close()"
   ]
  },
  {
   "cell_type": "code",
   "execution_count": 59,
   "id": "8aaf2243-8e42-46fd-8a56-ac5a7cc473de",
   "metadata": {},
   "outputs": [],
   "source": [
    "from langchain_core.tools import tool\n",
    "from langchain_core.runnables import ensure_config\n",
    "from typing import Optional\n",
    "import sqlite3\n",
    "from datetime import datetime, timedelta\n",
    "\n",
    "\n",
    "@tool\n",
    "def search_flights(departure_airport: Optional[str] = None, arrival_airport: Optional[str] = None, \n",
    "                   start_time: Optional[str] = None, end_time: Optional[str] = None, limit: int = 100) -> list[dict]:\n",
    "    \"\"\"Search for flights based on departure airport, arrival airport, and departure time range.\"\"\"\n",
    "    config = ensure_config()\n",
    "    configuration = config.get('configurable', {})\n",
    "    db = configuration['db']\n",
    "    conn = sqlite3.connect(db)\n",
    "    cursor = conn.cursor()\n",
    "    \n",
    "    query = \"SELECT * FROM flights WHERE 1 = 1\"\n",
    "    params = []\n",
    "    \n",
    "    if departure_airport:\n",
    "        query += \" AND departure_airport = ?\"\n",
    "        params.append(departure_airport)\n",
    "    \n",
    "    if arrival_airport:\n",
    "        query += \" AND arrival_airport = ?\"\n",
    "        params.append(arrival_airport)\n",
    "    \n",
    "    if start_time:\n",
    "        start_datetime = datetime.fromisoformat(start_time)\n",
    "        query += \" AND scheduled_departure >= ?\"\n",
    "        params.append(start_datetime)\n",
    "    \n",
    "    if end_time:\n",
    "        end_datetime = datetime.fromisoformat(end_time)\n",
    "        query += \" AND scheduled_departure <= ?\"\n",
    "        params.append(end_datetime)\n",
    "    query += \" LIMIT ?\"\n",
    "    params.append(limit)\n",
    "    cursor.execute(query, params)\n",
    "    rows = cursor.fetchall()\n",
    "    column_names = [column[0] for column in cursor.description]\n",
    "    results = [dict(zip(column_names, row)) for row in rows]\n",
    "    \n",
    "    cursor.close()\n",
    "    conn.close()\n",
    "    \n",
    "    return results\n"
   ]
  },
  {
   "cell_type": "markdown",
   "id": "4839511d-c232-41c1-b8c2-670027d5a407",
   "metadata": {},
   "source": [
    "Fetch user tickets"
   ]
  },
  {
   "cell_type": "code",
   "execution_count": 102,
   "id": "4c10c08f-0d8b-419d-ba21-606794b7328d",
   "metadata": {},
   "outputs": [],
   "source": [
    "from langchain_core.tools import tool\n",
    "from langchain_core.runnables import ensure_config\n",
    "import sqlite3\n",
    "\n",
    "@tool\n",
    "def fetch_user_flight_information() -> list[dict]:\n",
    "    \"\"\"Fetch all tickets for the user along with corresponding flight information and seat assignments.\n",
    "    \n",
    "    Returns:\n",
    "        A list of dictionaries where each dictionary contains the ticket details, \n",
    "        associated flight details, and the seat assignments for each ticket belonging to the user.\n",
    "    \"\"\"\n",
    "    config = ensure_config()\n",
    "    configuration = config.get('configurable', {})\n",
    "    db = configuration['db']\n",
    "    passenger_id = configuration.get('passenger_id', None)\n",
    "    if not passenger_id:\n",
    "        raise ValueError(\"No passenger ID configured.\")\n",
    "\n",
    "    conn = sqlite3.connect(db)\n",
    "    cursor = conn.cursor()\n",
    "\n",
    "    query = \"\"\"\n",
    "    SELECT \n",
    "        t.ticket_no, t.book_ref,\n",
    "        f.flight_id, f.flight_no, f.departure_airport, f.arrival_airport, f.scheduled_departure, f.scheduled_arrival,\n",
    "        bp.seat_no, tf.fare_conditions\n",
    "    FROM \n",
    "        tickets t\n",
    "        JOIN ticket_flights tf ON t.ticket_no = tf.ticket_no\n",
    "        JOIN flights f ON tf.flight_id = f.flight_id\n",
    "        JOIN boarding_passes bp ON bp.ticket_no = t.ticket_no AND bp.flight_id = f.flight_id\n",
    "    WHERE \n",
    "        t.passenger_id = ?\n",
    "    \"\"\"\n",
    "    cursor.execute(query, (passenger_id,))\n",
    "    rows = cursor.fetchall()\n",
    "    column_names = [column[0] for column in cursor.description]\n",
    "    results = [dict(zip(column_names, row)) for row in rows]\n",
    "    \n",
    "    cursor.close()\n",
    "    conn.close()\n",
    "    \n",
    "    return results\n"
   ]
  },
  {
   "cell_type": "code",
   "execution_count": 97,
   "id": "b3792244-0a6b-46ce-a3c5-2a451d5e3d36",
   "metadata": {},
   "outputs": [],
   "source": [
    "from langchain_core.tools import tool\n",
    "from langchain_core.runnables import ensure_config\n",
    "import sqlite3\n",
    "\n",
    "@tool\n",
    "def update_ticket_to_new_flight(ticket_no: str, new_flight_id: int) -> str:\n",
    "    \"\"\"Update the user's ticket to a new valid flight.\"\"\"\n",
    "    config = ensure_config()\n",
    "    configuration = config.get('configurable', {})\n",
    "    db = configuration['db']\n",
    "\n",
    "    conn = sqlite3.connect(db)\n",
    "    cursor = conn.cursor()\n",
    "\n",
    "    cursor.execute(\"SELECT departure_airport, arrival_airport FROM flights WHERE flight_id = ?\", (new_flight_id,))\n",
    "    new_flight = cursor.fetchone()\n",
    "    if not new_flight:\n",
    "        cursor.close()\n",
    "        conn.close()\n",
    "        return \"Invalid new flight ID provided.\"\n",
    "\n",
    "    cursor.execute(\"SELECT flight_id FROM ticket_flights WHERE ticket_no = ?\", (ticket_no,))\n",
    "    current_flight = cursor.fetchone()\n",
    "    if not current_flight:\n",
    "        cursor.close()\n",
    "        conn.close()\n",
    "        return \"No existing ticket found for the given ticket number.\"\n",
    "\n",
    "    cursor.execute(\"SELECT departure_airport, arrival_airport FROM flights WHERE flight_id = ?\", (current_flight[0],))\n",
    "    current_airports = cursor.fetchone()\n",
    "    if new_flight != current_airports:\n",
    "        cursor.close()\n",
    "        conn.close()\n",
    "        return \"New flight does not match the original departure and arrival airports.\"\n",
    "\n",
    "    cursor.execute(\"UPDATE ticket_flights SET flight_id = ? WHERE ticket_no = ?\", (new_flight_id, ticket_no))\n",
    "    conn.commit()\n",
    "\n",
    "    cursor.close()\n",
    "    conn.close()\n",
    "    return \"Ticket successfully updated to new flight.\"\n"
   ]
  },
  {
   "cell_type": "code",
   "execution_count": 104,
   "id": "1075edc5-88fb-447d-8e94-baacd786c335",
   "metadata": {},
   "outputs": [],
   "source": [
    "tools = [TavilySearchResults(max_results=1), search_flights, update_ticket_to_new_flight]\n",
    "\n",
    "llm = ChatAnthropic(model=\"claude-3-haiku-20240307\")\n",
    "prompt = ChatPromptTemplate.from_messages([\n",
    "    (\"system\", \n",
    "     \"You are a helpful customer support assistant for Swiss Airlines. \"\n",
    "    \"Where appropriate, use the provided tools to assist the user in managing their flights.\"\n",
    "    \"\\n\\nCurrent user flight information:\\n<Flights>\\n{flights}\\n</Flights>\"),\n",
    "    (\"placeholder\", \"{messages}\")\n",
    "])\n",
    "\n",
    "assistant_runnable = prompt | llm.bind_tools(tools)\n",
    "def assistant(state: State):\n",
    "    user_flight_info = fetch_user_flight_information.invoke({})\n",
    "    return {\"messages\": assistant_runnable.invoke({**state, \"flights\": str(user_flight_info) })}"
   ]
  },
  {
   "cell_type": "code",
   "execution_count": 112,
   "id": "a68cf5e8-d9f9-4f04-b9b3-8a452ad8e821",
   "metadata": {},
   "outputs": [],
   "source": [
    "from langgraph.prebuilt import ToolNode, tools_condition\n",
    "from langgraph.checkpoint.sqlite import SqliteSaver\n",
    "builder = StateGraph(State)\n",
    "builder.add_node(\"assistant\", assistant)\n",
    "builder.set_entry_point(\"assistant\")\n",
    "builder.add_node(\"tools\", ToolNode(tools))\n",
    "builder.add_edge(\"tools\", \"assistant\")\n",
    "builder.add_conditional_edges(\"assistant\", tools_condition, {\"action\": \"tools\", END: END})\n",
    "checkpointer = SqliteSaver.from_conn_string(\":memory:\")\n",
    "graph = builder.compile(checkpointer=checkpointer)"
   ]
  },
  {
   "cell_type": "code",
   "execution_count": 113,
   "id": "41fc8c01-972f-4313-a18b-ee8c241c41ac",
   "metadata": {},
   "outputs": [
    {
     "data": {
      "image/jpeg": "[encoded data removed]",
      "text/plain": [
       "<IPython.core.display.Image object>"
      ]
     },
     "metadata": {},
     "output_type": "display_data"
    }
   ],
   "source": [
    "from IPython.display import Image, display\n",
    "\n",
    "try:\n",
    "    display(Image(graph.get_graph().draw_mermaid_png()))\n",
    "except:\n",
    "    # This requires some extra dependencies and is optional\n",
    "    pass"
   ]
  },
  {
   "cell_type": "code",
   "execution_count": 114,
   "id": "2ac3a1c5-7ef8-425e-b3d9-2e8959954d0e",
   "metadata": {},
   "outputs": [
    {
     "data": {
      "text/plain": [
       "[{'ticket_no': '0005432000987',\n",
       "  'book_ref': '06B046',\n",
       "  'flight_id': 28935,\n",
       "  'flight_no': 'PG0242',\n",
       "  'departure_airport': 'CSY',\n",
       "  'arrival_airport': 'SVO',\n",
       "  'scheduled_departure': '2017-07-16 12:05:00+03',\n",
       "  'scheduled_arrival': '2017-07-16 12:55:00+03',\n",
       "  'seat_no': '7A',\n",
       "  'fare_conditions': 'Economy'}]"
      ]
     },
     "execution_count": 114,
     "metadata": {},
     "output_type": "execute_result"
    }
   ],
   "source": [
    "fetch_user_flight_information.invoke({}, config)"
   ]
  },
  {
   "cell_type": "code",
   "execution_count": 116,
   "id": "02868554-75a4-446e-8bb8-11c523143a8a",
   "metadata": {},
   "outputs": [
    {
     "name": "stdout",
     "output_type": "stream",
     "text": [
      "Assistant: Hi there, what time is my flight?\n",
      "Assistant: [{'id': 'toolu_0113RayKFzzDM1dsxTKxqyVj', 'input': {'departure_airport': 'CSY', 'arrival_airport': 'SVO'}, 'name': 'search_flights', 'type': 'tool_use'}]\n",
      "Assistant: [{\"flight_id\": 28892, \"flight_no\": \"PG0242\", \"scheduled_departure\": \"2017-09-01 12:05:00+03\", \"scheduled_arrival\": \"2017-09-01 12:55:00+03\", \"departure_airport\": \"CSY\", \"arrival_airport\": \"SVO\", \"stat\n",
      "Assistant: Based on the flight information provided, your scheduled flight is:\\n\\nFlight Number: PG0242\\nDeparture Airport: CSY\\nArrival Airport: SVO\\nScheduled Departure: 2017-07-16 12:05:00+03\\nScheduled Arriv\n"
     ]
    }
   ],
   "source": [
    "config = {\"configurable\": {\"passenger_id\": \"8149 604011\", \"db\": local_file, \"thread_id\": \"thread-1\"}}\n",
    "events = graph.stream({\"messages\": [(\"user\", \"Hi there, what time is my flight?\")]}, config, stream_mode=\"values\")\n",
    "for event in events:\n",
    "    messages = event.get(\"messages\")\n",
    "    if messages:\n",
    "        if isinstance(messages, list):\n",
    "            messages = messages[-1]\n",
    "        print(\n",
    "            \"Assistant:\",\n",
    "            str(messages.content).replace(\"\\n\", \"\\\\n\")[:200],\n",
    "        )"
   ]
  },
  {
   "cell_type": "code",
   "execution_count": 120,
   "id": "e47c7687-4ec2-4d1e-b6f8-652902a51811",
   "metadata": {},
   "outputs": [
    {
     "name": "stdout",
     "output_type": "stream",
     "text": [
      "Assistant: That's disappointing\n",
      "Assistant: I understand that it's disappointing to not have more flight options available on your travel date. As a customer service representative, I want to do my best to assist you.\\n\\nSince the 12:05 flight \n"
     ]
    }
   ],
   "source": [
    "events = graph.stream({\"messages\": [(\"user\", \"That's disappointing\")]}, config, stream_mode=\"values\")\n",
    "for event in events:\n",
    "    messages = event.get(\"messages\")\n",
    "    if messages:\n",
    "        if isinstance(messages, list):\n",
    "            messages = messages[-1]\n",
    "        print(\n",
    "            \"Assistant:\",\n",
    "            str(messages.content).replace(\"\\n\", \"\\\\n\")[:200],\n",
    "        )"
   ]
  },
  {
   "cell_type": "code",
   "execution_count": null,
   "id": "741fcb82-3523-4998-9950-a4a14a2c17f6",
   "metadata": {},
   "outputs": [],
   "source": [
    "event['messages'][-1].pretty_print()"
   ]
  },
  {
   "cell_type": "code",
   "execution_count": null,
   "id": "1f33c676-6b72-49d9-8f4d-f3064b99f058",
   "metadata": {},
   "outputs": [],
   "source": []
  }
 ],
 "metadata": {
  "kernelspec": {
   "display_name": "Python 3 (ipykernel)",
   "language": "python",
   "name": "python3"
  },
  "language_info": {
   "codemirror_mode": {
    "name": "ipython",
    "version": 3
   },
   "file_extension": ".py",
   "mimetype": "text/x-python",
   "name": "python",
   "nbconvert_exporter": "python",
   "pygments_lexer": "ipython3",
   "version": "3.11.2"
  }
 },
 "nbformat": 4,
 "nbformat_minor": 5
}
